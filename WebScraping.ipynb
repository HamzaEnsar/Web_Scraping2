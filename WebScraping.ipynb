{
 "cells": [
  {
   "cell_type": "code",
   "execution_count": 109,
   "id": "e36ad130",
   "metadata": {},
   "outputs": [],
   "source": [
    "import pandas as pd \n",
    "from bs4 import BeautifulSoup\n",
    "import requests\n",
    "import numpy as np\n",
    "import matplotlib.pylab as plt\n",
    "import seaborn as sns\n"
   ]
  },
  {
   "cell_type": "code",
   "execution_count": 9,
   "id": "43de29aa",
   "metadata": {},
   "outputs": [],
   "source": [
    "url = 'https://en.wikipedia.org/wiki/List_of_deaths_from_drug_overdose_and_intoxication'\n",
    "page=requests.get(url)\n",
    "soup= BeautifulSoup(page.text,'html.parser')"
   ]
  },
  {
   "cell_type": "code",
   "execution_count": 10,
   "id": "fb52c89c",
   "metadata": {},
   "outputs": [],
   "source": [
    "table=soup.find_all('table')"
   ]
  },
  {
   "cell_type": "code",
   "execution_count": 35,
   "id": "0b58c7d2",
   "metadata": {},
   "outputs": [],
   "source": [
    "titles=soup.find_all('th')[1:6]"
   ]
  },
  {
   "cell_type": "code",
   "execution_count": 36,
   "id": "ddc15516",
   "metadata": {},
   "outputs": [
    {
     "data": {
      "text/plain": [
       "[<th scope=\"col\">Born\n",
       " </th>,\n",
       " <th scope=\"col\">Died\n",
       " </th>,\n",
       " <th scope=\"col\">Age\n",
       " </th>,\n",
       " <th scope=\"col\">Profession\n",
       " </th>,\n",
       " <th scope=\"col\">Drug(s)\n",
       " </th>]"
      ]
     },
     "execution_count": 36,
     "metadata": {},
     "output_type": "execute_result"
    }
   ],
   "source": [
    "titles"
   ]
  },
  {
   "cell_type": "code",
   "execution_count": 37,
   "id": "6a26864f",
   "metadata": {},
   "outputs": [],
   "source": [
    "table_titles=[titles.text.strip() for titles in titles]\n"
   ]
  },
  {
   "cell_type": "code",
   "execution_count": 38,
   "id": "22507be2",
   "metadata": {},
   "outputs": [
    {
     "data": {
      "text/plain": [
       "['Born', 'Died', 'Age', 'Profession', 'Drug(s)']"
      ]
     },
     "execution_count": 38,
     "metadata": {},
     "output_type": "execute_result"
    }
   ],
   "source": [
    "table_titles"
   ]
  },
  {
   "cell_type": "code",
   "execution_count": 39,
   "id": "2effee84",
   "metadata": {},
   "outputs": [],
   "source": [
    "df=pd.DataFrame(columns=table_titles)"
   ]
  },
  {
   "cell_type": "code",
   "execution_count": 40,
   "id": "428ec64a",
   "metadata": {},
   "outputs": [
    {
     "data": {
      "text/html": [
       "<div>\n",
       "<style scoped>\n",
       "    .dataframe tbody tr th:only-of-type {\n",
       "        vertical-align: middle;\n",
       "    }\n",
       "\n",
       "    .dataframe tbody tr th {\n",
       "        vertical-align: top;\n",
       "    }\n",
       "\n",
       "    .dataframe thead th {\n",
       "        text-align: right;\n",
       "    }\n",
       "</style>\n",
       "<table border=\"1\" class=\"dataframe\">\n",
       "  <thead>\n",
       "    <tr style=\"text-align: right;\">\n",
       "      <th></th>\n",
       "      <th>Born</th>\n",
       "      <th>Died</th>\n",
       "      <th>Age</th>\n",
       "      <th>Profession</th>\n",
       "      <th>Drug(s)</th>\n",
       "    </tr>\n",
       "  </thead>\n",
       "  <tbody>\n",
       "  </tbody>\n",
       "</table>\n",
       "</div>"
      ],
      "text/plain": [
       "Empty DataFrame\n",
       "Columns: [Born, Died, Age, Profession, Drug(s)]\n",
       "Index: []"
      ]
     },
     "execution_count": 40,
     "metadata": {},
     "output_type": "execute_result"
    }
   ],
   "source": [
    "df"
   ]
  },
  {
   "cell_type": "code",
   "execution_count": 73,
   "id": "828481b7",
   "metadata": {},
   "outputs": [],
   "source": [
    "column_data=soup.find_all('tr')\n",
    "\n",
    "for row in column_data[1:]:\n",
    "    row_data=row.find_all('td')\n",
    "    individual_row_data=[data.text.strip() for data in row_data[0:5]][0:6]\n",
    "    \n",
    "    length = len(df)\n",
    "    df.loc[length]= individual_row_data"
   ]
  },
  {
   "cell_type": "code",
   "execution_count": 74,
   "id": "5806f33b",
   "metadata": {},
   "outputs": [
    {
     "data": {
      "text/html": [
       "<div>\n",
       "<style scoped>\n",
       "    .dataframe tbody tr th:only-of-type {\n",
       "        vertical-align: middle;\n",
       "    }\n",
       "\n",
       "    .dataframe tbody tr th {\n",
       "        vertical-align: top;\n",
       "    }\n",
       "\n",
       "    .dataframe thead th {\n",
       "        text-align: right;\n",
       "    }\n",
       "</style>\n",
       "<table border=\"1\" class=\"dataframe\">\n",
       "  <thead>\n",
       "    <tr style=\"text-align: right;\">\n",
       "      <th></th>\n",
       "      <th>Born</th>\n",
       "      <th>Died</th>\n",
       "      <th>Age</th>\n",
       "      <th>Profession</th>\n",
       "      <th>Drug(s)</th>\n",
       "    </tr>\n",
       "  </thead>\n",
       "  <tbody>\n",
       "    <tr>\n",
       "      <th>0</th>\n",
       "      <td>1941</td>\n",
       "      <td>1995</td>\n",
       "      <td>54</td>\n",
       "      <td>Artist</td>\n",
       "      <td>Unspecified</td>\n",
       "    </tr>\n",
       "    <tr>\n",
       "      <th>1</th>\n",
       "      <td>1955</td>\n",
       "      <td>1996</td>\n",
       "      <td>41</td>\n",
       "      <td>Wrestling promoter</td>\n",
       "      <td>Cocaine</td>\n",
       "    </tr>\n",
       "    <tr>\n",
       "      <th>2</th>\n",
       "      <td>1864</td>\n",
       "      <td>1916</td>\n",
       "      <td>52</td>\n",
       "      <td>Actress</td>\n",
       "      <td>Morphine</td>\n",
       "    </tr>\n",
       "    <tr>\n",
       "      <th>3</th>\n",
       "      <td>1980</td>\n",
       "      <td>2010</td>\n",
       "      <td>29</td>\n",
       "      <td>Wrestler</td>\n",
       "      <td>Unspecified</td>\n",
       "    </tr>\n",
       "    <tr>\n",
       "      <th>4</th>\n",
       "      <td>1908</td>\n",
       "      <td>1970</td>\n",
       "      <td>61</td>\n",
       "      <td>Playwright</td>\n",
       "      <td>Barbiturates</td>\n",
       "    </tr>\n",
       "    <tr>\n",
       "      <th>...</th>\n",
       "      <td>...</td>\n",
       "      <td>...</td>\n",
       "      <td>...</td>\n",
       "      <td>...</td>\n",
       "      <td>...</td>\n",
       "    </tr>\n",
       "    <tr>\n",
       "      <th>624</th>\n",
       "      <td>1984</td>\n",
       "      <td>1997</td>\n",
       "      <td>13</td>\n",
       "      <td>Student</td>\n",
       "      <td>Dextropropoxyphene</td>\n",
       "    </tr>\n",
       "    <tr>\n",
       "      <th>625</th>\n",
       "      <td>1965</td>\n",
       "      <td>2001</td>\n",
       "      <td>36</td>\n",
       "      <td>Boxer</td>\n",
       "      <td>Unspecified</td>\n",
       "    </tr>\n",
       "    <tr>\n",
       "      <th>626</th>\n",
       "      <td>1904</td>\n",
       "      <td>1958</td>\n",
       "      <td>53</td>\n",
       "      <td>Actor</td>\n",
       "      <td>Unspecified</td>\n",
       "    </tr>\n",
       "    <tr>\n",
       "      <th>627</th>\n",
       "      <td>1948</td>\n",
       "      <td>1973</td>\n",
       "      <td>25</td>\n",
       "      <td>Musician</td>\n",
       "      <td>Heroin</td>\n",
       "    </tr>\n",
       "    <tr>\n",
       "      <th>628</th>\n",
       "      <td>1881</td>\n",
       "      <td>1942</td>\n",
       "      <td>60</td>\n",
       "      <td>Playwright</td>\n",
       "      <td>Sleeping pills</td>\n",
       "    </tr>\n",
       "  </tbody>\n",
       "</table>\n",
       "<p>629 rows × 5 columns</p>\n",
       "</div>"
      ],
      "text/plain": [
       "     Born  Died Age          Profession             Drug(s)\n",
       "0    1941  1995  54              Artist         Unspecified\n",
       "1    1955  1996  41  Wrestling promoter             Cocaine\n",
       "2    1864  1916  52             Actress            Morphine\n",
       "3    1980  2010  29            Wrestler         Unspecified\n",
       "4    1908  1970  61          Playwright        Barbiturates\n",
       "..    ...   ...  ..                 ...                 ...\n",
       "624  1984  1997  13             Student  Dextropropoxyphene\n",
       "625  1965  2001  36               Boxer         Unspecified\n",
       "626  1904  1958  53               Actor         Unspecified\n",
       "627  1948  1973  25            Musician              Heroin\n",
       "628  1881  1942  60          Playwright      Sleeping pills\n",
       "\n",
       "[629 rows x 5 columns]"
      ]
     },
     "execution_count": 74,
     "metadata": {},
     "output_type": "execute_result"
    }
   ],
   "source": [
    "df"
   ]
  },
  {
   "cell_type": "code",
   "execution_count": 75,
   "id": "e0bb7433",
   "metadata": {},
   "outputs": [],
   "source": [
    "df0=df.copy()"
   ]
  },
  {
   "cell_type": "code",
   "execution_count": 76,
   "id": "4ab64621",
   "metadata": {},
   "outputs": [
    {
     "data": {
      "text/html": [
       "<div>\n",
       "<style scoped>\n",
       "    .dataframe tbody tr th:only-of-type {\n",
       "        vertical-align: middle;\n",
       "    }\n",
       "\n",
       "    .dataframe tbody tr th {\n",
       "        vertical-align: top;\n",
       "    }\n",
       "\n",
       "    .dataframe thead th {\n",
       "        text-align: right;\n",
       "    }\n",
       "</style>\n",
       "<table border=\"1\" class=\"dataframe\">\n",
       "  <thead>\n",
       "    <tr style=\"text-align: right;\">\n",
       "      <th></th>\n",
       "      <th>Born</th>\n",
       "      <th>Died</th>\n",
       "      <th>Age</th>\n",
       "      <th>Profession</th>\n",
       "      <th>Drug(s)</th>\n",
       "    </tr>\n",
       "  </thead>\n",
       "  <tbody>\n",
       "    <tr>\n",
       "      <th>0</th>\n",
       "      <td>1941</td>\n",
       "      <td>1995</td>\n",
       "      <td>54</td>\n",
       "      <td>Artist</td>\n",
       "      <td>Unspecified</td>\n",
       "    </tr>\n",
       "    <tr>\n",
       "      <th>1</th>\n",
       "      <td>1955</td>\n",
       "      <td>1996</td>\n",
       "      <td>41</td>\n",
       "      <td>Wrestling promoter</td>\n",
       "      <td>Cocaine</td>\n",
       "    </tr>\n",
       "    <tr>\n",
       "      <th>2</th>\n",
       "      <td>1864</td>\n",
       "      <td>1916</td>\n",
       "      <td>52</td>\n",
       "      <td>Actress</td>\n",
       "      <td>Morphine</td>\n",
       "    </tr>\n",
       "    <tr>\n",
       "      <th>3</th>\n",
       "      <td>1980</td>\n",
       "      <td>2010</td>\n",
       "      <td>29</td>\n",
       "      <td>Wrestler</td>\n",
       "      <td>Unspecified</td>\n",
       "    </tr>\n",
       "    <tr>\n",
       "      <th>4</th>\n",
       "      <td>1908</td>\n",
       "      <td>1970</td>\n",
       "      <td>61</td>\n",
       "      <td>Playwright</td>\n",
       "      <td>Barbiturates</td>\n",
       "    </tr>\n",
       "    <tr>\n",
       "      <th>...</th>\n",
       "      <td>...</td>\n",
       "      <td>...</td>\n",
       "      <td>...</td>\n",
       "      <td>...</td>\n",
       "      <td>...</td>\n",
       "    </tr>\n",
       "    <tr>\n",
       "      <th>624</th>\n",
       "      <td>1984</td>\n",
       "      <td>1997</td>\n",
       "      <td>13</td>\n",
       "      <td>Student</td>\n",
       "      <td>Dextropropoxyphene</td>\n",
       "    </tr>\n",
       "    <tr>\n",
       "      <th>625</th>\n",
       "      <td>1965</td>\n",
       "      <td>2001</td>\n",
       "      <td>36</td>\n",
       "      <td>Boxer</td>\n",
       "      <td>Unspecified</td>\n",
       "    </tr>\n",
       "    <tr>\n",
       "      <th>626</th>\n",
       "      <td>1904</td>\n",
       "      <td>1958</td>\n",
       "      <td>53</td>\n",
       "      <td>Actor</td>\n",
       "      <td>Unspecified</td>\n",
       "    </tr>\n",
       "    <tr>\n",
       "      <th>627</th>\n",
       "      <td>1948</td>\n",
       "      <td>1973</td>\n",
       "      <td>25</td>\n",
       "      <td>Musician</td>\n",
       "      <td>Heroin</td>\n",
       "    </tr>\n",
       "    <tr>\n",
       "      <th>628</th>\n",
       "      <td>1881</td>\n",
       "      <td>1942</td>\n",
       "      <td>60</td>\n",
       "      <td>Playwright</td>\n",
       "      <td>Sleeping pills</td>\n",
       "    </tr>\n",
       "  </tbody>\n",
       "</table>\n",
       "<p>629 rows × 5 columns</p>\n",
       "</div>"
      ],
      "text/plain": [
       "     Born  Died Age          Profession             Drug(s)\n",
       "0    1941  1995  54              Artist         Unspecified\n",
       "1    1955  1996  41  Wrestling promoter             Cocaine\n",
       "2    1864  1916  52             Actress            Morphine\n",
       "3    1980  2010  29            Wrestler         Unspecified\n",
       "4    1908  1970  61          Playwright        Barbiturates\n",
       "..    ...   ...  ..                 ...                 ...\n",
       "624  1984  1997  13             Student  Dextropropoxyphene\n",
       "625  1965  2001  36               Boxer         Unspecified\n",
       "626  1904  1958  53               Actor         Unspecified\n",
       "627  1948  1973  25            Musician              Heroin\n",
       "628  1881  1942  60          Playwright      Sleeping pills\n",
       "\n",
       "[629 rows x 5 columns]"
      ]
     },
     "execution_count": 76,
     "metadata": {},
     "output_type": "execute_result"
    }
   ],
   "source": [
    "df0"
   ]
  },
  {
   "cell_type": "code",
   "execution_count": 78,
   "id": "f0cf27c4",
   "metadata": {},
   "outputs": [
    {
     "data": {
      "image/png": "[encoded data removed]",
      "text/plain": [
       "<Figure size 800x500 with 1 Axes>"
      ]
     },
     "metadata": {},
     "output_type": "display_data"
    }
   ],
   "source": [
    "sns.heatmap(df0.isnull(),yticklabels=False,cbar=False,cmap='viridis');"
   ]
  }
 ],
 "metadata": {
  "kernelspec": {
   "display_name": "Python 3 (ipykernel)",
   "language": "python",
   "name": "python3"
  },
  "language_info": {
   "codemirror_mode": {
    "name": "ipython",
    "version": 3
   },
   "file_extension": ".py",
   "mimetype": "text/x-python",
   "name": "python",
   "nbconvert_exporter": "python",
   "pygments_lexer": "ipython3",
   "version": "3.9.13"
  }
 },
 "nbformat": 4,
 "nbformat_minor": 5
}
